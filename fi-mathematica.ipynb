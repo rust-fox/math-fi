{
 "cells": [
  {
   "cell_type": "code",
   "execution_count": null,
   "metadata": {},
   "outputs": [],
   "source": [
    "def add_stochastic_oscillator(df, periods=14):\n",
    "    copy = df.copy()\n",
    "    \n",
    "    high_roll = copy[\"High\"].rolling(periods).max()\n",
    "    low_roll = copy[\"Low\"].rolling(periods).min()\n",
    "    \n",
    "    # Fast stochastic indicator\n",
    "    num = copy[\"Close\"] - low_roll\n",
    "    denom = high_roll - low_roll\n",
    "    copy[\"%K\"] = (num / denom) * 100\n",
    "    \n",
    "    # Slow stochastic indicator\n",
    "    copy[\"%D\"] = copy[\"%K\"].rolling(3).mean()\n",
    "    \n",
    "    return copy"
   ]
  },
  {
   "cell_type": "code",
   "execution_count": 1,
   "metadata": {},
   "outputs": [],
   "source": [
    "import datetime\n",
    "import pandas as pd\n",
    "import matplotlib.pyplot as plt\n",
    "\n",
    "from matplotlib.lines import Line2D\n",
    "\n",
    "\n",
    "today = datetime.datetime.now()\n",
    "\n",
    "date_pattern = \"%Y-%m-%d\"\n",
    "today_str = today.strftime(date_pattern)\n",
    "date_ranges = {\n",
    "    \"1M\": (today - datetime.timedelta(days=30)).strftime(date_pattern),\n",
    "    \"3M\": (today - datetime.timedelta(days=90)).strftime(date_pattern),\n",
    "    \"6M\": (today - datetime.timedelta(days=180)).strftime(date_pattern),\n",
    "    \"1Y\": (today - datetime.timedelta(days=365)).strftime(date_pattern),\n",
    "    \"2Y\": (today - datetime.timedelta(days=2*365)).strftime(date_pattern),\n",
    "}\n",
    "\n",
    "\n",
    "def plot_stochastic_oscillator(df, symbol, rng, periods=14):\n",
    "    start = date_ranges[rng]\n",
    "    end = today_str\n",
    "    temp_df = df[start:end]\n",
    "    \n",
    "    fig, ax = plt.subplots(nrows=2, ncols=1, sharex=True, tight_layout=True, figsize=(6, 6))\n",
    "\n",
    "    ax[0].set_title(f\"{symbol} price, {rng}\")\n",
    "    ax[0].plot(temp_df[\"Close\"], color=\"tab:blue\")\n",
    "\n",
    "    ax[1].set_title(f\"{symbol} Stochastic Oscillator ({periods}-day period), {rng}\")\n",
    "    ax[1].set_ylim(-10, 110)\n",
    "    ax[1].plot(temp_df[\"%K\"], color=\"tab:blue\") # fast\n",
    "    ax[1].plot(temp_df[\"%D\"], color=\"tab:orange\") # slow\n",
    "\n",
    "    ax[1].axhline(80, color=\"tab:red\", ls=\"--\")\n",
    "    ax[1].axhline(20, color=\"tab:green\", ls=\"--\")\n",
    "\n",
    "    custom_lines = [\n",
    "        Line2D([0], [0], color=\"tab:blue\", lw=4),\n",
    "        Line2D([0], [0], color=\"tab:orange\", lw=4),\n",
    "        Line2D([0], [0], color=\"tab:red\", lw=4),\n",
    "        Line2D([0], [0], color=\"tab:green\", lw=4),\n",
    "    ]\n",
    "    ax[1].legend(custom_lines, [\"%K\", \"%D\", \"Overbought\", \"Oversold\"], loc=\"best\")"
   ]
  },
  {
   "cell_type": "code",
   "execution_count": 2,
   "metadata": {},
   "outputs": [
    {
     "ename": "NameError",
     "evalue": "name 'df' is not defined",
     "output_type": "error",
     "traceback": [
      "\u001b[0;31m---------------------------------------------------------------------------\u001b[0m",
      "\u001b[0;31mNameError\u001b[0m                                 Traceback (most recent call last)",
      "\u001b[1;32mUntitled-1.ipynb Cell 3\u001b[0m in \u001b[0;36m<cell line: 1>\u001b[0;34m()\u001b[0m\n\u001b[0;32m----> <a href='vscode-notebook-cell:Untitled-1.ipynb?jupyter-notebook#W2sdW50aXRsZWQ%3D?line=0'>1</a>\u001b[0m plot_stochastic_oscillator(df, \u001b[39m\"\u001b[39m\u001b[39mPLTR\u001b[39m\u001b[39m\"\u001b[39m, \u001b[39m\"\u001b[39m\u001b[39m6M\u001b[39m\u001b[39m\"\u001b[39m)\n",
      "\u001b[0;31mNameError\u001b[0m: name 'df' is not defined"
     ]
    }
   ],
   "source": [
    "plot_stochastic_oscillator(df, \"PLTR\", \"6M\")"
   ]
  },
  {
   "cell_type": "markdown",
   "metadata": {},
   "source": [
    "When $a \\ne 0$, there are two solutions to $(ax^2 + bx + c = 0)$ and they are \n",
    "$$ x = {-b \\pm \\sqrt{b^2-4ac} \\over 2a} $$"
   ]
  },
  {
   "cell_type": "markdown",
   "metadata": {},
   "source": []
  }
 ],
 "metadata": {
  "kernelspec": {
   "display_name": "Python 3.9.12 ('base')",
   "language": "python",
   "name": "python3"
  },
  "language_info": {
   "codemirror_mode": {
    "name": "ipython",
    "version": 3
   },
   "file_extension": ".py",
   "mimetype": "text/x-python",
   "name": "python",
   "nbconvert_exporter": "python",
   "pygments_lexer": "ipython3",
   "version": "3.9.12"
  },
  "orig_nbformat": 4,
  "vscode": {
   "interpreter": {
    "hash": "e04f9510ab524914f5574c4be8e635e9446c74cd675ed9c4e839717886fce28c"
   }
  }
 },
 "nbformat": 4,
 "nbformat_minor": 2
}
