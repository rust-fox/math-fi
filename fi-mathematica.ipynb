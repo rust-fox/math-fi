{
 "cells": [
  {
   "cell_type": "markdown",
   "metadata": {},
   "source": [
    "When $a \\ne 0$, there are two solutions to $(ax^2 + bx + c = 0)$ and they are \n",
    "$$ x = {-b \\pm \\sqrt{b^2-4ac} \\over 2a} $$"
   ]
  },
  {
   "cell_type": "markdown",
   "metadata": {},
   "source": []
  },
  {
   "cell_type": "code",
   "execution_count": 6,
   "metadata": {},
   "outputs": [
    {
     "data": {
      "text/plain": [
       "Date\n",
       "1987-06-16    2.0\n",
       "2000-06-21    2.0\n",
       "2005-02-28    2.0\n",
       "2014-06-09    7.0\n",
       "2020-08-31    4.0\n",
       "Name: Stock Splits, dtype: float64"
      ]
     },
     "execution_count": 6,
     "metadata": {},
     "output_type": "execute_result"
    }
   ],
   "source": [
    "import yfinance as yf\n",
    "\n",
    "apple= yf.Ticker(\"aapl\")\n",
    "\n",
    "# show actions (dividends, splits)\n",
    "apple.actions\n",
    "\n",
    "# show dividends\n",
    "apple.dividends\n",
    "\n",
    "# show splits\n",
    "apple.splits\n",
    "\n",
    "# + other methods etc."
   ]
  },
  {
   "cell_type": "code",
   "execution_count": 7,
   "metadata": {},
   "outputs": [
    {
     "data": {
      "text/plain": [
       "yfinance.Ticker object <AAPL>"
      ]
     },
     "execution_count": 7,
     "metadata": {},
     "output_type": "execute_result"
    }
   ],
   "source": [
    "import yfinance as yf\n",
    "\n",
    "aapl= yf.Ticker(\"aapl\")\n",
    "aapl"
   ]
  },
  {
   "cell_type": "code",
   "execution_count": 19,
   "metadata": {},
   "outputs": [
    {
     "data": {
      "text/html": [
       "<div>\n",
       "<style scoped>\n",
       "    .dataframe tbody tr th:only-of-type {\n",
       "        vertical-align: middle;\n",
       "    }\n",
       "\n",
       "    .dataframe tbody tr th {\n",
       "        vertical-align: top;\n",
       "    }\n",
       "\n",
       "    .dataframe thead th {\n",
       "        text-align: right;\n",
       "    }\n",
       "</style>\n",
       "<table border=\"1\" class=\"dataframe\">\n",
       "  <thead>\n",
       "    <tr style=\"text-align: right;\">\n",
       "      <th></th>\n",
       "      <th>Open</th>\n",
       "      <th>High</th>\n",
       "      <th>Low</th>\n",
       "      <th>Close</th>\n",
       "      <th>Volume</th>\n",
       "      <th>Dividends</th>\n",
       "      <th>Stock Splits</th>\n",
       "    </tr>\n",
       "    <tr>\n",
       "      <th>Datetime</th>\n",
       "      <th></th>\n",
       "      <th></th>\n",
       "      <th></th>\n",
       "      <th></th>\n",
       "      <th></th>\n",
       "      <th></th>\n",
       "      <th></th>\n",
       "    </tr>\n",
       "  </thead>\n",
       "  <tbody>\n",
       "    <tr>\n",
       "      <th>2022-09-02 09:30:00-04:00</th>\n",
       "      <td>159.750000</td>\n",
       "      <td>160.009995</td>\n",
       "      <td>159.149994</td>\n",
       "      <td>159.380005</td>\n",
       "      <td>3250524</td>\n",
       "      <td>0</td>\n",
       "      <td>0</td>\n",
       "    </tr>\n",
       "    <tr>\n",
       "      <th>2022-09-02 09:31:00-04:00</th>\n",
       "      <td>159.372498</td>\n",
       "      <td>159.429993</td>\n",
       "      <td>159.250000</td>\n",
       "      <td>159.380005</td>\n",
       "      <td>409714</td>\n",
       "      <td>0</td>\n",
       "      <td>0</td>\n",
       "    </tr>\n",
       "    <tr>\n",
       "      <th>2022-09-02 09:32:00-04:00</th>\n",
       "      <td>159.360001</td>\n",
       "      <td>159.595001</td>\n",
       "      <td>159.259995</td>\n",
       "      <td>159.410004</td>\n",
       "      <td>355297</td>\n",
       "      <td>0</td>\n",
       "      <td>0</td>\n",
       "    </tr>\n",
       "    <tr>\n",
       "      <th>2022-09-02 09:33:00-04:00</th>\n",
       "      <td>159.410004</td>\n",
       "      <td>159.539993</td>\n",
       "      <td>159.330002</td>\n",
       "      <td>159.369995</td>\n",
       "      <td>339951</td>\n",
       "      <td>0</td>\n",
       "      <td>0</td>\n",
       "    </tr>\n",
       "    <tr>\n",
       "      <th>2022-09-02 09:34:00-04:00</th>\n",
       "      <td>159.360001</td>\n",
       "      <td>159.800003</td>\n",
       "      <td>159.199997</td>\n",
       "      <td>159.210007</td>\n",
       "      <td>334541</td>\n",
       "      <td>0</td>\n",
       "      <td>0</td>\n",
       "    </tr>\n",
       "    <tr>\n",
       "      <th>...</th>\n",
       "      <td>...</td>\n",
       "      <td>...</td>\n",
       "      <td>...</td>\n",
       "      <td>...</td>\n",
       "      <td>...</td>\n",
       "      <td>...</td>\n",
       "      <td>...</td>\n",
       "    </tr>\n",
       "    <tr>\n",
       "      <th>2022-09-06 15:55:00-04:00</th>\n",
       "      <td>154.330002</td>\n",
       "      <td>154.339996</td>\n",
       "      <td>154.149994</td>\n",
       "      <td>154.184998</td>\n",
       "      <td>401377</td>\n",
       "      <td>0</td>\n",
       "      <td>0</td>\n",
       "    </tr>\n",
       "    <tr>\n",
       "      <th>2022-09-06 15:56:00-04:00</th>\n",
       "      <td>154.184998</td>\n",
       "      <td>154.184998</td>\n",
       "      <td>154.009995</td>\n",
       "      <td>154.119995</td>\n",
       "      <td>419248</td>\n",
       "      <td>0</td>\n",
       "      <td>0</td>\n",
       "    </tr>\n",
       "    <tr>\n",
       "      <th>2022-09-06 15:57:00-04:00</th>\n",
       "      <td>154.115005</td>\n",
       "      <td>154.279999</td>\n",
       "      <td>154.039993</td>\n",
       "      <td>154.250000</td>\n",
       "      <td>510933</td>\n",
       "      <td>0</td>\n",
       "      <td>0</td>\n",
       "    </tr>\n",
       "    <tr>\n",
       "      <th>2022-09-06 15:58:00-04:00</th>\n",
       "      <td>154.257507</td>\n",
       "      <td>154.460007</td>\n",
       "      <td>154.244995</td>\n",
       "      <td>154.407700</td>\n",
       "      <td>647281</td>\n",
       "      <td>0</td>\n",
       "      <td>0</td>\n",
       "    </tr>\n",
       "    <tr>\n",
       "      <th>2022-09-06 15:59:00-04:00</th>\n",
       "      <td>154.404999</td>\n",
       "      <td>154.649994</td>\n",
       "      <td>154.330002</td>\n",
       "      <td>154.529999</td>\n",
       "      <td>1719243</td>\n",
       "      <td>0</td>\n",
       "      <td>0</td>\n",
       "    </tr>\n",
       "  </tbody>\n",
       "</table>\n",
       "<p>780 rows × 7 columns</p>\n",
       "</div>"
      ],
      "text/plain": [
       "                                 Open        High         Low       Close  \\\n",
       "Datetime                                                                    \n",
       "2022-09-02 09:30:00-04:00  159.750000  160.009995  159.149994  159.380005   \n",
       "2022-09-02 09:31:00-04:00  159.372498  159.429993  159.250000  159.380005   \n",
       "2022-09-02 09:32:00-04:00  159.360001  159.595001  159.259995  159.410004   \n",
       "2022-09-02 09:33:00-04:00  159.410004  159.539993  159.330002  159.369995   \n",
       "2022-09-02 09:34:00-04:00  159.360001  159.800003  159.199997  159.210007   \n",
       "...                               ...         ...         ...         ...   \n",
       "2022-09-06 15:55:00-04:00  154.330002  154.339996  154.149994  154.184998   \n",
       "2022-09-06 15:56:00-04:00  154.184998  154.184998  154.009995  154.119995   \n",
       "2022-09-06 15:57:00-04:00  154.115005  154.279999  154.039993  154.250000   \n",
       "2022-09-06 15:58:00-04:00  154.257507  154.460007  154.244995  154.407700   \n",
       "2022-09-06 15:59:00-04:00  154.404999  154.649994  154.330002  154.529999   \n",
       "\n",
       "                            Volume  Dividends  Stock Splits  \n",
       "Datetime                                                     \n",
       "2022-09-02 09:30:00-04:00  3250524          0             0  \n",
       "2022-09-02 09:31:00-04:00   409714          0             0  \n",
       "2022-09-02 09:32:00-04:00   355297          0             0  \n",
       "2022-09-02 09:33:00-04:00   339951          0             0  \n",
       "2022-09-02 09:34:00-04:00   334541          0             0  \n",
       "...                            ...        ...           ...  \n",
       "2022-09-06 15:55:00-04:00   401377          0             0  \n",
       "2022-09-06 15:56:00-04:00   419248          0             0  \n",
       "2022-09-06 15:57:00-04:00   510933          0             0  \n",
       "2022-09-06 15:58:00-04:00   647281          0             0  \n",
       "2022-09-06 15:59:00-04:00  1719243          0             0  \n",
       "\n",
       "[780 rows x 7 columns]"
      ]
     },
     "execution_count": 19,
     "metadata": {},
     "output_type": "execute_result"
    }
   ],
   "source": [
    "aapl_historical = aapl.history(start=\"2022-09-02\", end=\"2022-09-07\", interval=\"1m\")\n",
    "aapl_historical"
   ]
  },
  {
   "cell_type": "code",
   "execution_count": 20,
   "metadata": {},
   "outputs": [
    {
     "data": {
      "text/plain": [
       "0.92"
      ]
     },
     "execution_count": 20,
     "metadata": {},
     "output_type": "execute_result"
    }
   ],
   "source": [
    "aapl.info['dividendRate']"
   ]
  },
  {
   "cell_type": "code",
   "execution_count": 21,
   "metadata": {},
   "outputs": [
    {
     "data": {
      "text/plain": [
       "Series([], Name: Dividends, dtype: int64)"
      ]
     },
     "execution_count": 21,
     "metadata": {},
     "output_type": "execute_result"
    }
   ],
   "source": [
    "aapl.dividends"
   ]
  },
  {
   "cell_type": "code",
   "execution_count": 23,
   "metadata": {},
   "outputs": [
    {
     "data": {
      "text/plain": [
       "2220984631296"
      ]
     },
     "execution_count": 23,
     "metadata": {},
     "output_type": "execute_result"
    }
   ],
   "source": [
    "aapl.info[\"marketCap\"]"
   ]
  },
  {
   "cell_type": "code",
   "execution_count": 24,
   "metadata": {},
   "outputs": [
    {
     "data": {
      "text/html": [
       "<div>\n",
       "<style scoped>\n",
       "    .dataframe tbody tr th:only-of-type {\n",
       "        vertical-align: middle;\n",
       "    }\n",
       "\n",
       "    .dataframe tbody tr th {\n",
       "        vertical-align: top;\n",
       "    }\n",
       "\n",
       "    .dataframe thead th {\n",
       "        text-align: right;\n",
       "    }\n",
       "</style>\n",
       "<table border=\"1\" class=\"dataframe\">\n",
       "  <thead>\n",
       "    <tr style=\"text-align: right;\">\n",
       "      <th></th>\n",
       "      <th>Open</th>\n",
       "      <th>High</th>\n",
       "      <th>Low</th>\n",
       "      <th>Close</th>\n",
       "      <th>Volume</th>\n",
       "      <th>Dividends</th>\n",
       "      <th>Stock Splits</th>\n",
       "    </tr>\n",
       "    <tr>\n",
       "      <th>Date</th>\n",
       "      <th></th>\n",
       "      <th></th>\n",
       "      <th></th>\n",
       "      <th></th>\n",
       "      <th></th>\n",
       "      <th></th>\n",
       "      <th></th>\n",
       "    </tr>\n",
       "  </thead>\n",
       "  <tbody>\n",
       "    <tr>\n",
       "      <th>1980-12-08</th>\n",
       "      <td>0.100039</td>\n",
       "      <td>0.100474</td>\n",
       "      <td>0.100039</td>\n",
       "      <td>0.100039</td>\n",
       "      <td>469033600.0</td>\n",
       "      <td>0.0</td>\n",
       "      <td>0.0</td>\n",
       "    </tr>\n",
       "    <tr>\n",
       "      <th>1980-12-15</th>\n",
       "      <td>0.095255</td>\n",
       "      <td>0.098735</td>\n",
       "      <td>0.087861</td>\n",
       "      <td>0.098300</td>\n",
       "      <td>490134400.0</td>\n",
       "      <td>0.0</td>\n",
       "      <td>0.0</td>\n",
       "    </tr>\n",
       "    <tr>\n",
       "      <th>1980-12-22</th>\n",
       "      <td>0.103084</td>\n",
       "      <td>0.123962</td>\n",
       "      <td>0.103084</td>\n",
       "      <td>0.123527</td>\n",
       "      <td>187891200.0</td>\n",
       "      <td>0.0</td>\n",
       "      <td>0.0</td>\n",
       "    </tr>\n",
       "    <tr>\n",
       "      <th>1980-12-29</th>\n",
       "      <td>0.125267</td>\n",
       "      <td>0.125702</td>\n",
       "      <td>0.118743</td>\n",
       "      <td>0.120048</td>\n",
       "      <td>219452800.0</td>\n",
       "      <td>0.0</td>\n",
       "      <td>0.0</td>\n",
       "    </tr>\n",
       "    <tr>\n",
       "      <th>1981-01-05</th>\n",
       "      <td>0.117873</td>\n",
       "      <td>0.117873</td>\n",
       "      <td>0.105259</td>\n",
       "      <td>0.110913</td>\n",
       "      <td>197904000.0</td>\n",
       "      <td>0.0</td>\n",
       "      <td>0.0</td>\n",
       "    </tr>\n",
       "    <tr>\n",
       "      <th>...</th>\n",
       "      <td>...</td>\n",
       "      <td>...</td>\n",
       "      <td>...</td>\n",
       "      <td>...</td>\n",
       "      <td>...</td>\n",
       "      <td>...</td>\n",
       "      <td>...</td>\n",
       "    </tr>\n",
       "    <tr>\n",
       "      <th>2022-09-05</th>\n",
       "      <td>156.470001</td>\n",
       "      <td>157.820007</td>\n",
       "      <td>152.679993</td>\n",
       "      <td>157.369995</td>\n",
       "      <td>314117000.0</td>\n",
       "      <td>0.0</td>\n",
       "      <td>0.0</td>\n",
       "    </tr>\n",
       "    <tr>\n",
       "      <th>2022-09-12</th>\n",
       "      <td>159.589996</td>\n",
       "      <td>164.259995</td>\n",
       "      <td>148.369995</td>\n",
       "      <td>150.699997</td>\n",
       "      <td>568216100.0</td>\n",
       "      <td>0.0</td>\n",
       "      <td>0.0</td>\n",
       "    </tr>\n",
       "    <tr>\n",
       "      <th>2022-09-19</th>\n",
       "      <td>149.309998</td>\n",
       "      <td>158.740005</td>\n",
       "      <td>148.559998</td>\n",
       "      <td>150.429993</td>\n",
       "      <td>473452500.0</td>\n",
       "      <td>0.0</td>\n",
       "      <td>0.0</td>\n",
       "    </tr>\n",
       "    <tr>\n",
       "      <th>2022-09-26</th>\n",
       "      <td>149.660004</td>\n",
       "      <td>154.720001</td>\n",
       "      <td>138.000000</td>\n",
       "      <td>138.199997</td>\n",
       "      <td>577317100.0</td>\n",
       "      <td>0.0</td>\n",
       "      <td>0.0</td>\n",
       "    </tr>\n",
       "    <tr>\n",
       "      <th>2022-09-30</th>\n",
       "      <td>141.279999</td>\n",
       "      <td>143.100006</td>\n",
       "      <td>138.000000</td>\n",
       "      <td>138.199997</td>\n",
       "      <td>124925274.0</td>\n",
       "      <td>0.0</td>\n",
       "      <td>0.0</td>\n",
       "    </tr>\n",
       "  </tbody>\n",
       "</table>\n",
       "<p>2242 rows × 7 columns</p>\n",
       "</div>"
      ],
      "text/plain": [
       "                  Open        High         Low       Close       Volume  \\\n",
       "Date                                                                      \n",
       "1980-12-08    0.100039    0.100474    0.100039    0.100039  469033600.0   \n",
       "1980-12-15    0.095255    0.098735    0.087861    0.098300  490134400.0   \n",
       "1980-12-22    0.103084    0.123962    0.103084    0.123527  187891200.0   \n",
       "1980-12-29    0.125267    0.125702    0.118743    0.120048  219452800.0   \n",
       "1981-01-05    0.117873    0.117873    0.105259    0.110913  197904000.0   \n",
       "...                ...         ...         ...         ...          ...   \n",
       "2022-09-05  156.470001  157.820007  152.679993  157.369995  314117000.0   \n",
       "2022-09-12  159.589996  164.259995  148.369995  150.699997  568216100.0   \n",
       "2022-09-19  149.309998  158.740005  148.559998  150.429993  473452500.0   \n",
       "2022-09-26  149.660004  154.720001  138.000000  138.199997  577317100.0   \n",
       "2022-09-30  141.279999  143.100006  138.000000  138.199997  124925274.0   \n",
       "\n",
       "            Dividends  Stock Splits  \n",
       "Date                                 \n",
       "1980-12-08        0.0           0.0  \n",
       "1980-12-15        0.0           0.0  \n",
       "1980-12-22        0.0           0.0  \n",
       "1980-12-29        0.0           0.0  \n",
       "1981-01-05        0.0           0.0  \n",
       "...               ...           ...  \n",
       "2022-09-05        0.0           0.0  \n",
       "2022-09-12        0.0           0.0  \n",
       "2022-09-19        0.0           0.0  \n",
       "2022-09-26        0.0           0.0  \n",
       "2022-09-30        0.0           0.0  \n",
       "\n",
       "[2242 rows x 7 columns]"
      ]
     },
     "execution_count": 24,
     "metadata": {},
     "output_type": "execute_result"
    }
   ],
   "source": [
    "aapl_historical = aapl.history(period=\"max\", interval=\"1wk\")\n",
    "aapl_historical"
   ]
  },
  {
   "cell_type": "code",
   "execution_count": 25,
   "metadata": {},
   "outputs": [
    {
     "data": {
      "text/plain": [
       "('2022-10-07',\n",
       " '2022-10-14',\n",
       " '2022-10-21',\n",
       " '2022-10-28',\n",
       " '2022-11-04',\n",
       " '2022-11-18',\n",
       " '2022-12-16',\n",
       " '2023-01-20',\n",
       " '2023-02-17',\n",
       " '2023-03-17',\n",
       " '2023-04-21',\n",
       " '2023-06-16',\n",
       " '2023-07-21',\n",
       " '2023-09-15',\n",
       " '2024-01-19',\n",
       " '2024-06-21',\n",
       " '2025-01-17')"
      ]
     },
     "execution_count": 25,
     "metadata": {},
     "output_type": "execute_result"
    }
   ],
   "source": [
    "aapl.options"
   ]
  },
  {
   "cell_type": "code",
   "execution_count": null,
   "metadata": {},
   "outputs": [],
   "source": []
  }
 ],
 "metadata": {
  "kernelspec": {
   "display_name": "Python 3.9.12 ('base')",
   "language": "python",
   "name": "python3"
  },
  "language_info": {
   "codemirror_mode": {
    "name": "ipython",
    "version": 3
   },
   "file_extension": ".py",
   "mimetype": "text/x-python",
   "name": "python",
   "nbconvert_exporter": "python",
   "pygments_lexer": "ipython3",
   "version": "3.9.12"
  },
  "orig_nbformat": 4,
  "vscode": {
   "interpreter": {
    "hash": "e04f9510ab524914f5574c4be8e635e9446c74cd675ed9c4e839717886fce28c"
   }
  }
 },
 "nbformat": 4,
 "nbformat_minor": 2
}
